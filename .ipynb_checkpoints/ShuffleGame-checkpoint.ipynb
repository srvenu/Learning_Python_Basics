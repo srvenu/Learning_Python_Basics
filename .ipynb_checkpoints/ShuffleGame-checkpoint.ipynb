{
 "cells": [
  {
   "cell_type": "markdown",
   "id": "2fbfe807-1308-4e57-a0da-742abe38f731",
   "metadata": {},
   "source": [
    "Python Function Shuffle Guess Game"
   ]
  },
  {
   "cell_type": "code",
   "execution_count": 1,
   "id": "b88c33d5-bf11-4da6-b224-8ee5d0214d12",
   "metadata": {},
   "outputs": [],
   "source": [
    "# shuffle game that has 3 box and have one ball inside \n",
    "# one of the box, it will shuffles randomly we need to guess the box."
   ]
  },
  {
   "cell_type": "code",
   "execution_count": 2,
   "id": "737e1bff-050d-4770-9621-40c1f2783710",
   "metadata": {},
   "outputs": [],
   "source": [
    "from random import shuffle\n",
    "def shuffle_result(example):\n",
    "    shuffle(example)\n",
    "    return example"
   ]
  },
  {
   "cell_type": "code",
   "execution_count": 3,
   "id": "4489fb46-e3b1-4206-b291-90ccc0f3894b",
   "metadata": {},
   "outputs": [],
   "source": [
    "mylist = [' ','O',' ']"
   ]
  },
  {
   "cell_type": "code",
   "execution_count": 4,
   "id": "ace38cd4-2404-45bc-8fb5-dbc6abdae0fb",
   "metadata": {},
   "outputs": [
    {
     "data": {
      "text/plain": [
       "[' ', 'O', ' ']"
      ]
     },
     "execution_count": 4,
     "metadata": {},
     "output_type": "execute_result"
    }
   ],
   "source": [
    "shuffle_result(mylist)"
   ]
  },
  {
   "cell_type": "code",
   "execution_count": 5,
   "id": "6c3d53a0-6bb9-4f3b-8af0-e8e410d38054",
   "metadata": {},
   "outputs": [],
   "source": [
    "def player_guess():\n",
    "    guess = ''\n",
    "    while guess not in ['0','1','2']:\n",
    "        guess = input(\"Pick a number : 0,1 or 2 : \")\n",
    "    return int(guess)"
   ]
  },
  {
   "cell_type": "code",
   "execution_count": null,
   "id": "cc7d4827-11ac-458a-b2a0-5569dbc2827f",
   "metadata": {},
   "outputs": [],
   "source": []
  },
  {
   "cell_type": "code",
   "execution_count": null,
   "id": "6ae5d2f7-b548-49fb-9995-2f917303f23e",
   "metadata": {},
   "outputs": [],
   "source": []
  },
  {
   "cell_type": "code",
   "execution_count": 6,
   "id": "74213366-f420-4b0b-a9be-b4904db5d598",
   "metadata": {},
   "outputs": [],
   "source": [
    "def check_guess(mylist,guessed_number):\n",
    "    if mylist[guessed_number] == 'O':\n",
    "        print('Correct Position ')\n",
    "    else:\n",
    "        print('Wrong Guess !')\n",
    "        print(mylist)\n",
    "        pass"
   ]
  },
  {
   "cell_type": "code",
   "execution_count": 7,
   "id": "7e0b50ce-e57a-4ab1-8d8c-b1d75216cb91",
   "metadata": {},
   "outputs": [],
   "source": [
    "def start_game(i=0):\n",
    "    i=0\n",
    "    #my list\n",
    "    mylist=['','O','']\n",
    "    while i<5:\n",
    "        my_shuffled_list=shuffle_result(mylist)\n",
    "        guess=player_guess()\n",
    "        check_guess(my_shuffled_list,guess)\n",
    "        i+=1"
   ]
  },
  {
   "cell_type": "code",
   "execution_count": null,
   "id": "8c161c2f-6760-4382-9b65-271d4b565dce",
   "metadata": {},
   "outputs": [],
   "source": []
  },
  {
   "cell_type": "code",
   "execution_count": 8,
   "id": "9ce9b19c-16c7-43c0-ae91-a84001611ef9",
   "metadata": {},
   "outputs": [
    {
     "name": "stdin",
     "output_type": "stream",
     "text": [
      "Do you want to play game ! yes or no :  yes\n"
     ]
    },
    {
     "name": "stdout",
     "output_type": "stream",
     "text": [
      "\n",
      "\n"
     ]
    },
    {
     "name": "stdin",
     "output_type": "stream",
     "text": [
      "Pick a number : 0,1 or 2 :  2\n"
     ]
    },
    {
     "name": "stdout",
     "output_type": "stream",
     "text": [
      "Correct Position \n"
     ]
    },
    {
     "name": "stdin",
     "output_type": "stream",
     "text": [
      "Pick a number : 0,1 or 2 :  1\n"
     ]
    },
    {
     "name": "stdout",
     "output_type": "stream",
     "text": [
      "Correct Position \n"
     ]
    },
    {
     "name": "stdin",
     "output_type": "stream",
     "text": [
      "Pick a number : 0,1 or 2 :  0\n"
     ]
    },
    {
     "name": "stdout",
     "output_type": "stream",
     "text": [
      "Wrong Guess !\n",
      "['', '', 'O']\n"
     ]
    },
    {
     "name": "stdin",
     "output_type": "stream",
     "text": [
      "Pick a number : 0,1 or 2 :  2\n"
     ]
    },
    {
     "name": "stdout",
     "output_type": "stream",
     "text": [
      "Wrong Guess !\n",
      "['O', '', '']\n"
     ]
    },
    {
     "name": "stdin",
     "output_type": "stream",
     "text": [
      "Pick a number : 0,1 or 2 :  1\n"
     ]
    },
    {
     "name": "stdout",
     "output_type": "stream",
     "text": [
      "Correct Position \n"
     ]
    },
    {
     "name": "stdin",
     "output_type": "stream",
     "text": [
      "Do you want to play game ! yes or no :  no\n"
     ]
    },
    {
     "name": "stdout",
     "output_type": "stream",
     "text": [
      "\n",
      "\n",
      "Game Over...\n"
     ]
    }
   ],
   "source": [
    "flag = True\n",
    "while flag:\n",
    "    play = input(\"Do you want to play game ! yes or no : \")\n",
    "    print('\\n')\n",
    "    if play.lower() =='yes':\n",
    "        flag = True\n",
    "        start_game()\n",
    "    else:\n",
    "        flag = False\n",
    "        print(\"Game Over....\")\n",
    "        break\n"
   ]
  },
  {
   "cell_type": "code",
   "execution_count": null,
   "id": "fee1adc3-5394-4320-b368-03a325e38fdf",
   "metadata": {},
   "outputs": [],
   "source": []
  },
  {
   "cell_type": "code",
   "execution_count": null,
   "id": "68639b33-99b4-436d-8166-0c31310ed308",
   "metadata": {},
   "outputs": [],
   "source": []
  }
 ],
 "metadata": {
  "kernelspec": {
   "display_name": "Python 3 (ipykernel)",
   "language": "python",
   "name": "python3"
  },
  "language_info": {
   "codemirror_mode": {
    "name": "ipython",
    "version": 3
   },
   "file_extension": ".py",
   "mimetype": "text/x-python",
   "name": "python",
   "nbconvert_exporter": "python",
   "pygments_lexer": "ipython3",
   "version": "3.11.5"
  }
 },
 "nbformat": 4,
 "nbformat_minor": 5
}
